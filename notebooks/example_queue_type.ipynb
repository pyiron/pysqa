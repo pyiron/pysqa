{
 "metadata": {
  "kernelspec": {
   "display_name": "Flux",
   "language": "python",
   "name": "flux"
  },
  "language_info": {
   "name": "python",
   "version": "3.10.14",
   "mimetype": "text/x-python",
   "codemirror_mode": {
    "name": "ipython",
    "version": 3
   },
   "pygments_lexer": "ipython3",
   "nbconvert_exporter": "python",
   "file_extension": ".py"
  }
 },
 "nbformat_minor": 5,
 "nbformat": 4,
 "cells": [
  {
   "id": "097a5f9f-69a2-42ae-a565-e3cdb17da461",
   "cell_type": "markdown",
   "source": [
    "# Dynamic Python Interface\n",
    "The `pysqa` package primarily defines one class, that is the `QueueAdapter`. It can either load the configuration from a configuration directory, or initializes the corrsponding adapter for the specific queuing system type `queue_type` and provides a high level interface for users to interact with the queuing system. The `QueueAdapter` can be imported using:"
   ],
   "metadata": {}
  },
  {
   "id": "04e9d4a2-6161-448b-81cd-1c6f8689867d",
   "cell_type": "code",
   "source": "from pysqa import QueueAdapter",
   "metadata": {
    "tags": [],
    "trusted": true
   },
   "outputs": [],
   "execution_count": 1
  },
  {
   "id": "7e3cf646-d4e7-4b1e-ab47-f07342d7a5a2",
   "cell_type": "markdown",
   "source": "After the initial import the class is initialized using the queuing system type specificed by the `queue_type` parameter. In this example we load the `flux` as queuing system interface: ",
   "metadata": {}
  },
  {
   "id": "7e234eaf-80bc-427e-bd65-9acf70802689",
   "cell_type": "code",
   "source": "qa = QueueAdapter(queue_type=\"flux\")",
   "metadata": {
    "tags": [],
    "trusted": true
   },
   "outputs": [],
   "execution_count": 2
  },
  {
   "id": "514a7f2e-04ec-4fed-baa5-a181dace7123",
   "cell_type": "markdown",
   "source": "The configuration is explained in more detail in the [documentation](https://pysqa.readthedocs.io/en/latest/queue.html#flux). ",
   "metadata": {}
  },
  {
   "id": "42a53d33-2916-461f-86be-3edbe01d3cc7",
   "cell_type": "markdown",
   "source": [
    "## Submit job to queue\n",
    "Submit a job to the queue - if no queue is specified it is submitted to the default queue defined in the queue configuration:"
   ],
   "metadata": {}
  },
  {
   "id": "a3f2ba3a-0f82-4a0a-aa63-b5e71f8f8b39",
   "cell_type": "code",
   "source": "queue_id = qa.submit_job(\n    job_name=None,\n    working_directory=\".\",\n    cores=1,\n    memory_max=None,\n    run_time_max=None,\n    dependency_list=None,\n    submission_template=None,\n    command=\"sleep 5\",\n)\nqueue_id",
   "metadata": {
    "trusted": true
   },
   "outputs": [
    {
     "execution_count": 3,
     "output_type": "execute_result",
     "data": {
      "text/plain": "64156073984"
     },
     "metadata": {}
    }
   ],
   "execution_count": 3
  },
  {
   "id": "9aa0fdf9-0827-4706-bfed-6b95b95dd061",
   "cell_type": "markdown",
   "source": "The only required parameter is: \n* `command` the command that is executed as part of the job \n\nAdditional options for the submission of the job are:\n* `job_name` the name of the job submitted to the queuing system. \n* `working_directory` the working directory the job submitted to the queuing system is executed in.\n* `cores` the number of cores used for the calculation. If the cores are not defined the minimum number of cores defined for the selected queue are used. \n* `memory_max` the memory used for the calculation. \n* `run_time_max` the run time for the calculation. If the run time is not defined the maximum run time defined for the selected queue is used. \n* `dependency_list` other jobs the calculation depends on.\n* `submission_template` the template submission script.\n* `**kwargs` allows writing additional parameters to the job submission script if they are available in the corresponding template.\n",
   "metadata": {}
  },
  {
   "id": "e9cef4ba-ddf6-4cd5-9519-ba93ce13256a",
   "cell_type": "markdown",
   "source": "The submission script template can be imported directly using `from pysqa.wrapper.flux import template`: ",
   "metadata": {}
  },
  {
   "id": "5379ef70-39a5-45ac-b325-d71abe1ba4b0",
   "cell_type": "code",
   "source": "from pysqa.wrapper.flux import template\n\ntemplate.split(\"\\n\")",
   "metadata": {
    "trusted": true
   },
   "outputs": [
    {
     "execution_count": 4,
     "output_type": "execute_result",
     "data": {
      "text/plain": "['#!/bin/bash',\n '# flux: --job-name={{job_name}}',\n '# flux: --env=CORES={{cores}}',\n '# flux: --output=time.out',\n '# flux: --error=error.out',\n '# flux: -n {{cores}}',\n '{%- if run_time_max %}',\n '# flux: -t {{ [1, run_time_max // 60]|max }}',\n '{%- endif %}',\n '{%- if dependency %}',\n '{%- for jobid in dependency %}',\n '# flux: --dependency=afterok:{{jobid}}',\n '{%- endfor %}',\n '{%- endif %}',\n '',\n '{{command}}',\n '']"
     },
     "metadata": {}
    }
   ],
   "execution_count": 4
  },
  {
   "id": "672854fd-3aaa-4287-b29c-d5370e4adc14",
   "cell_type": "markdown",
   "source": [
    "## Show jobs in queue\n",
    "Get status of all jobs currently handled by the queuing system:"
   ],
   "metadata": {}
  },
  {
   "id": "73518256-faf8-4fea-bc40-9b2198903bf5",
   "cell_type": "code",
   "source": "qa.get_queue_status()",
   "metadata": {
    "trusted": true
   },
   "outputs": [
    {
     "execution_count": 5,
     "output_type": "execute_result",
     "data": {
      "text/plain": "         jobid    user jobname   status\n0  64156073984  jovyan    None  running",
      "text/html": "<div>\n<style scoped>\n    .dataframe tbody tr th:only-of-type {\n        vertical-align: middle;\n    }\n\n    .dataframe tbody tr th {\n        vertical-align: top;\n    }\n\n    .dataframe thead th {\n        text-align: right;\n    }\n</style>\n<table border=\"1\" class=\"dataframe\">\n  <thead>\n    <tr style=\"text-align: right;\">\n      <th></th>\n      <th>jobid</th>\n      <th>user</th>\n      <th>jobname</th>\n      <th>status</th>\n    </tr>\n  </thead>\n  <tbody>\n    <tr>\n      <th>0</th>\n      <td>64156073984</td>\n      <td>jovyan</td>\n      <td>None</td>\n      <td>running</td>\n    </tr>\n  </tbody>\n</table>\n</div>"
     },
     "metadata": {}
    }
   ],
   "execution_count": 5
  },
  {
   "id": "9338f32f-b127-4700-8aba-25aded6b548f",
   "cell_type": "markdown",
   "source": "With the additional parameter `user` a specific user can be defined to only list the jobs of this specific user. \n\nIn analogy the jobs of the current user can be listed with: ",
   "metadata": {}
  },
  {
   "id": "cf6e59e8-f117-4d4a-9637-f83ec84c62fa",
   "cell_type": "code",
   "source": "qa.get_status_of_my_jobs()",
   "metadata": {
    "trusted": true
   },
   "outputs": [
    {
     "execution_count": 6,
     "output_type": "execute_result",
     "data": {
      "text/plain": "         jobid    user jobname   status\n0  64156073984  jovyan    None  running",
      "text/html": "<div>\n<style scoped>\n    .dataframe tbody tr th:only-of-type {\n        vertical-align: middle;\n    }\n\n    .dataframe tbody tr th {\n        vertical-align: top;\n    }\n\n    .dataframe thead th {\n        text-align: right;\n    }\n</style>\n<table border=\"1\" class=\"dataframe\">\n  <thead>\n    <tr style=\"text-align: right;\">\n      <th></th>\n      <th>jobid</th>\n      <th>user</th>\n      <th>jobname</th>\n      <th>status</th>\n    </tr>\n  </thead>\n  <tbody>\n    <tr>\n      <th>0</th>\n      <td>64156073984</td>\n      <td>jovyan</td>\n      <td>None</td>\n      <td>running</td>\n    </tr>\n  </tbody>\n</table>\n</div>"
     },
     "metadata": {}
    }
   ],
   "execution_count": 6
  },
  {
   "id": "d2566873-2d30-4801-9d86-287a247fb7c6",
   "cell_type": "markdown",
   "source": "Finally, the status of a specific job with the queue id  `queue_id` can be received from the queuing system using:",
   "metadata": {}
  },
  {
   "id": "ee8e14db-cc6e-47e7-a1e5-035427ca83a9",
   "cell_type": "code",
   "source": "qa.get_status_of_job(process_id=queue_id)",
   "metadata": {
    "trusted": true
   },
   "outputs": [
    {
     "execution_count": 7,
     "output_type": "execute_result",
     "data": {
      "text/plain": "'running'"
     },
     "metadata": {}
    }
   ],
   "execution_count": 7
  },
  {
   "id": "f89528d3-a3f5-4adb-9f74-7f70270aec12",
   "cell_type": "markdown",
   "source": [
    "## Delete job from queue\n",
    "Delete a job with the queue id `queue_id` from the queuing system:"
   ],
   "metadata": {}
  },
  {
   "id": "06e1535b-eafd-4b94-ba33-ba24da088a33",
   "cell_type": "code",
   "source": "qa.delete_job(process_id=queue_id)",
   "metadata": {
    "tags": [],
    "trusted": true
   },
   "outputs": [
    {
     "execution_count": 8,
     "output_type": "execute_result",
     "data": {
      "text/plain": "''"
     },
     "metadata": {}
    }
   ],
   "execution_count": 8
  }
 ]
}
